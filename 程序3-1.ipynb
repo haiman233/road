{
 "cells": [
  {
   "cell_type": "code",
   "execution_count": 6,
   "metadata": {},
   "outputs": [
    {
     "name": "stdout",
     "output_type": "stream",
     "text": [
      "从A地出发经B 2 到达B地，最少耗时为： 4.333333333333332 小时。具体行程请查看文件ZHXC.XLS。\n"
     ]
    }
   ],
   "source": [
    "import xlrd\n",
    "ms=[]\n",
    "ra=[]\n",
    "rb=[]\n",
    "for k in range(1,4):\n",
    "    data = xlrd.open_workbook(\"./data/B\"+str(k)+\".xlsx\")\n",
    "    table_1 = data.sheet_by_name(\"Sheet1\")\n",
    "    table_2 = data.sheet_by_name(\"Sheet2\")\n",
    "    rs1 = table_1.nrows\n",
    "    rs2 = table_2.nrows\n",
    "    m= 99\n",
    "    for i in range(1,rs1):\n",
    "        t14 = table_1.cell(i,4).value\n",
    "        t12 = t14-table_1.cell(i,2).value\n",
    "        for j in range(1,rs2):\n",
    "            t22 = table_2.cell(j,2).value\n",
    "            if t22-t14>=1/24 :\n",
    "                m1=t12+(t22-t14)+(table_2.cell(j,4).value-t22)\n",
    "                if m>m1:\n",
    "                    m=m1\n",
    "                    r1=i\n",
    "                    r2=j\n",
    "    ms.append(m)\n",
    "    ra.append(r1)\n",
    "    rb.append(r2)\n",
    "ms0=min(ms)\n",
    "ms1=ms.index(ms0)\n",
    "print(\"从A地出发经B\",ms1+1,\"到达B地，最少耗时为：\",ms0*24,\"小时。具体行程请查看文件ZHXC.XLS。\")\n",
    "data = xlrd.open_workbook(\"./data/B\"+str(ms1+1)+\".xlsx\")\n",
    "table_1 = data.sheet_by_name(\"Sheet1\")\n",
    "table_2 = data.sheet_by_name(\"Sheet2\")\n",
    "import xlwt\n",
    "wbk = xlwt.Workbook()\n",
    "sheet = wbk.add_sheet('sheet 1')\n",
    "for l in range (5):\n",
    "    sheet.write(0,l, table_1.cell(0,l).value)\n",
    "    sheet.write(1,l, table_1.cell(ra[ms1],l).value)\n",
    "    sheet.write(2,l, table_2.cell(rb[ms1],l).value)\n",
    "wbk.save('./data/zjxc.xls')"
   ]
  },
  {
   "cell_type": "code",
   "execution_count": 2,
   "metadata": {},
   "outputs": [
    {
     "ename": "SyntaxError",
     "evalue": "Missing parentheses in call to 'print'. Did you mean print(ms1)? (<ipython-input-2-cad27fe48094>, line 1)",
     "output_type": "error",
     "traceback": [
      "\u001b[1;36m  File \u001b[1;32m\"<ipython-input-2-cad27fe48094>\"\u001b[1;36m, line \u001b[1;32m1\u001b[0m\n\u001b[1;33m    print ms1\u001b[0m\n\u001b[1;37m            ^\u001b[0m\n\u001b[1;31mSyntaxError\u001b[0m\u001b[1;31m:\u001b[0m Missing parentheses in call to 'print'. Did you mean print(ms1)?\n"
     ]
    }
   ],
   "source": [
    "print ms1"
   ]
  },
  {
   "cell_type": "code",
   "execution_count": 3,
   "metadata": {},
   "outputs": [
    {
     "data": {
      "text/plain": [
       "0"
      ]
     },
     "execution_count": 3,
     "metadata": {},
     "output_type": "execute_result"
    }
   ],
   "source": [
    "ms1"
   ]
  },
  {
   "cell_type": "code",
   "execution_count": 4,
   "metadata": {},
   "outputs": [
    {
     "data": {
      "text/plain": [
       "0.1527777777777779"
      ]
     },
     "execution_count": 4,
     "metadata": {},
     "output_type": "execute_result"
    }
   ],
   "source": [
    "ms0"
   ]
  },
  {
   "cell_type": "code",
   "execution_count": 5,
   "metadata": {},
   "outputs": [
    {
     "data": {
      "text/plain": [
       "[3, 2, 2]"
      ]
     },
     "execution_count": 5,
     "metadata": {},
     "output_type": "execute_result"
    }
   ],
   "source": [
    "ra"
   ]
  },
  {
   "cell_type": "code",
   "execution_count": null,
   "metadata": {},
   "outputs": [],
   "source": []
  }
 ],
 "metadata": {
  "kernelspec": {
   "display_name": "Python 3",
   "language": "python",
   "name": "python3"
  },
  "language_info": {
   "codemirror_mode": {
    "name": "ipython",
    "version": 3
   },
   "file_extension": ".py",
   "mimetype": "text/x-python",
   "name": "python",
   "nbconvert_exporter": "python",
   "pygments_lexer": "ipython3",
   "version": "3.6.5"
  }
 },
 "nbformat": 4,
 "nbformat_minor": 2
}
